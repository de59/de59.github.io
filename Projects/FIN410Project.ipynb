{
  "nbformat": 4,
  "nbformat_minor": 0,
  "metadata": {
    "colab": {
      "name": "FIN410Project.ipynb",
      "provenance": [],
      "collapsed_sections": []
    },
    "kernelspec": {
      "name": "python3",
      "display_name": "Python 3"
    }
  },
  "cells": [
    {
      "cell_type": "code",
      "metadata": {
        "id": "qVqlyB1zSO34",
        "colab_type": "code",
        "outputId": "070caa4c-00c1-4c9d-a84b-19db6f3760d4",
        "colab": {
          "base_uri": "https://localhost:8080/",
          "height": 71
        }
      },
      "source": [
        "import numpy as np\n",
        "import pandas as pd\n",
        "import random\n",
        "import statsmodels.api as sm\n",
        "from sklearn import preprocessing\n",
        "from sklearn.neighbors import KNeighborsClassifier\n",
        "from sklearn.discriminant_analysis import LinearDiscriminantAnalysis, QuadraticDiscriminantAnalysis\n",
        "from sklearn.metrics import confusion_matrix\n",
        "import matplotlib.pyplot as plt"
      ],
      "execution_count": 0,
      "outputs": [
        {
          "output_type": "stream",
          "text": [
            "/usr/local/lib/python3.6/dist-packages/statsmodels/tools/_testing.py:19: FutureWarning: pandas.util.testing is deprecated. Use the functions in the public API at pandas.testing instead.\n",
            "  import pandas.util.testing as tm\n"
          ],
          "name": "stderr"
        }
      ]
    },
    {
      "cell_type": "markdown",
      "metadata": {
        "id": "fMc_g3tkhN7N",
        "colab_type": "text"
      },
      "source": [
        "Daniel Encarncao\n",
        "Fin 410 Project"
      ]
    },
    {
      "cell_type": "markdown",
      "metadata": {
        "id": "x6Nq3p30eJNW",
        "colab_type": "text"
      },
      "source": [
        "# Project Summary & Business Understanding \n",
        "We are going to train test and validate a neural network with a portion of a data set of German Credit Applicants. The data's last colunm is a yes or no column that determines whether the customers are good borrowers or not. Once we start running our Machine Learning models we will begin to identify the stronger and weaker indicators of good customers and try to improve our Machine Learning's predictability of good customers. We want to focus on increasing the accuracy of our machine learning model to be able to mitgate the risk of giving customers loans that they might not be able to repay. Having an accurate system in palce that can establish a customer's ability to pay back their debt more accuretulely decreases the risk of the default for the lender and makes the bank's profitability to risk ratio higher.  \n"
      ]
    },
    {
      "cell_type": "code",
      "metadata": {
        "id": "59BqInZmSZub",
        "colab_type": "code",
        "outputId": "9c605fad-cd76-412c-e15c-c9a356921bf5",
        "colab": {
          "resources": {
            "http://localhost:8080/nbextensions/google.colab/files.js": {
              "data": "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",
              "ok": true,
              "headers": [
                [
                  "content-type",
                  "application/javascript"
                ]
              ],
              "status": 200,
              "status_text": ""
            }
          },
          "base_uri": "https://localhost:8080/",
          "height": 74
        }
      },
      "source": [
        "from google.colab import files\n",
        "uploaded = files.upload()"
      ],
      "execution_count": 0,
      "outputs": [
        {
          "output_type": "display_data",
          "data": {
            "text/html": [
              "\n",
              "     <input type=\"file\" id=\"files-d388df74-cdee-4054-820e-bc7c5ed539a1\" name=\"files[]\" multiple disabled />\n",
              "     <output id=\"result-d388df74-cdee-4054-820e-bc7c5ed539a1\">\n",
              "      Upload widget is only available when the cell has been executed in the\n",
              "      current browser session. Please rerun this cell to enable.\n",
              "      </output>\n",
              "      <script src=\"/nbextensions/google.colab/files.js\"></script> "
            ],
            "text/plain": [
              "<IPython.core.display.HTML object>"
            ]
          },
          "metadata": {
            "tags": []
          }
        },
        {
          "output_type": "stream",
          "text": [
            "Saving MGMT635_GermanCreditData.csv to MGMT635_GermanCreditData.csv\n"
          ],
          "name": "stdout"
        }
      ]
    },
    {
      "cell_type": "markdown",
      "metadata": {
        "id": "8DbI5NJnf1Wf",
        "colab_type": "text"
      },
      "source": [
        "Import setting looks different becasue I use google colab as my python notebook"
      ]
    },
    {
      "cell_type": "code",
      "metadata": {
        "id": "cEFPF_ezSnfz",
        "colab_type": "code",
        "colab": {}
      },
      "source": [
        "CreditData = pd.read_table(\"MGMT635_GermanCreditData.csv\", sep = ',')\n",
        "data = CreditData\n",
        "X = data.iloc[:,0:20].copy()\n",
        "y = data.iloc[:,-1].copy()\n",
        "n = len(y)\n",
        "for i in range(n):\n",
        "    if y[i] == 2:\n",
        "        y[i] = 1\n",
        "    elif y[i] == 1:\n",
        "        y[i] = 0"
      ],
      "execution_count": 0,
      "outputs": []
    },
    {
      "cell_type": "code",
      "metadata": {
        "id": "6IqftzO4ZwSy",
        "colab_type": "code",
        "outputId": "0c0559fd-8a84-4a27-f920-914a78c1df87",
        "colab": {
          "base_uri": "https://localhost:8080/",
          "height": 663
        }
      },
      "source": [
        "y = y.astype(float)\n",
        "X = X.astype(float)\n",
        "\n",
        "regr = sm.Logit(y, X, family = sm.families.Binomial()).fit()\n",
        "print(regr.summary2())"
      ],
      "execution_count": 0,
      "outputs": [
        {
          "output_type": "stream",
          "text": [
            "Optimization terminated successfully.\n",
            "         Current function value: 0.484342\n",
            "         Iterations 6\n",
            "                         Results: Logit\n",
            "=================================================================\n",
            "Model:              Logit            Pseudo R-squared: 0.207     \n",
            "Dependent Variable: 1.1              AIC:              1007.7153 \n",
            "Date:               2020-04-13 19:44 BIC:              1105.8504 \n",
            "No. Observations:   999              Log-Likelihood:   -483.86   \n",
            "Df Model:           19               LL-Null:          -610.51   \n",
            "Df Residuals:       979              LLR p-value:      6.6397e-43\n",
            "Converged:          1.0000           Scale:            1.0000    \n",
            "No. Iterations:     6.0000                                       \n",
            "-------------------------------------------------------------------\n",
            "           Coef.    Std.Err.      z      P>|z|     [0.025    0.975]\n",
            "-------------------------------------------------------------------\n",
            "11        -0.5823     0.0697   -8.3501   0.0000   -0.7190   -0.4456\n",
            "6          0.0259     0.0086    3.0119   0.0026    0.0090    0.0427\n",
            "34        -0.3820     0.0852   -4.4844   0.0000   -0.5489   -0.2150\n",
            "43        -0.0019     0.0019   -1.0010   0.3168   -0.0057    0.0018\n",
            "1169       0.0001     0.0000    1.8383   0.0660   -0.0000    0.0002\n",
            "65        -0.2256     0.0575   -3.9242   0.0001   -0.3382   -0.1129\n",
            "75        -0.1492     0.0708   -2.1070   0.0351   -0.2880   -0.0104\n",
            "4          0.2832     0.0820    3.4533   0.0006    0.1225    0.4439\n",
            "93        -0.2555     0.1150   -2.2225   0.0263   -0.4809   -0.0302\n",
            "101       -0.2703     0.1718   -1.5731   0.1157   -0.6072    0.0665\n",
            "4.1        0.0248     0.0769    0.3228   0.7468   -0.1258    0.1755\n",
            "121        0.2033     0.0902    2.2546   0.0242    0.0266    0.3800\n",
            "67        -0.0130     0.0082   -1.5861   0.1127   -0.0290    0.0031\n",
            "143       -0.2409     0.1089   -2.2109   0.0270   -0.4544   -0.0273\n",
            "152       -0.1289     0.1602   -0.8045   0.4211   -0.4428    0.1851\n",
            "2          0.2377     0.1580    1.5044   0.1325   -0.0720    0.5474\n",
            "173        0.0452     0.1350    0.3350   0.7376   -0.2194    0.3099\n",
            "1          0.1375     0.2294    0.5995   0.5489   -0.3122    0.5872\n",
            "192       -0.0767     0.1745   -0.4395   0.6603   -0.4188    0.2653\n",
            "201        0.6412     0.2181    2.9396   0.0033    0.2137    1.0688\n",
            "=================================================================\n",
            "\n"
          ],
          "name": "stdout"
        }
      ]
    },
    {
      "cell_type": "code",
      "metadata": {
        "id": "A11TWhMBbZne",
        "colab_type": "code",
        "outputId": "19fccb40-a85d-4d2c-cd65-4d121069940c",
        "colab": {
          "base_uri": "https://localhost:8080/",
          "height": 51
        }
      },
      "source": [
        "pred = regr.predict()\n",
        "print(pred[0:10])"
      ],
      "execution_count": 0,
      "outputs": [
        {
          "output_type": "stream",
          "text": [
            "[0.56261154 0.02839812 0.4600665  0.57201153 0.14401504 0.06723001\n",
            " 0.52450374 0.04202592 0.48533292 0.47273851]\n"
          ],
          "name": "stdout"
        }
      ]
    },
    {
      "cell_type": "code",
      "metadata": {
        "id": "EIx7DmyEbtZm",
        "colab_type": "code",
        "colab": {}
      },
      "source": [
        "def contrast(variable):\n",
        "    level = list(set(variable))\n",
        "    n = len(level)\n",
        "    df = pd.DataFrame(np.zeros([n,n]), index = level, columns = level)\n",
        "    for i in range(n):\n",
        "        for j in range(n):\n",
        "            df.iloc[i,j] = 1 if i==j else 0\n",
        "    \n",
        "    return df"
      ],
      "execution_count": 0,
      "outputs": []
    },
    {
      "cell_type": "code",
      "metadata": {
        "id": "6pEcXUcMb_eG",
        "colab_type": "code",
        "outputId": "05cccf7b-4167-4485-af18-f035f1f7acd3",
        "colab": {
          "base_uri": "https://localhost:8080/",
          "height": 102
        }
      },
      "source": [
        "print(contrast(data['1.1']))\n",
        "\n",
        "result = [2 if r > .5 else 1 for r in pred]\n",
        "print(confusion_matrix(y_pred = result, y_true = data['1.1']))"
      ],
      "execution_count": 0,
      "outputs": [
        {
          "output_type": "stream",
          "text": [
            "     1    2\n",
            "1  1.0  0.0\n",
            "2  0.0  1.0\n",
            "[[621  78]\n",
            " [159 141]]\n"
          ],
          "name": "stdout"
        }
      ]
    },
    {
      "cell_type": "code",
      "metadata": {
        "id": "-euq0MugeIrs",
        "colab_type": "code",
        "colab": {}
      },
      "source": [
        "def conf_mat(y_true, y_pred): # function version\n",
        "    df = contrast(y_true) # columns true, rows pred\n",
        "    name = df.columns.tolist()\n",
        "    n = len(y_pred)\n",
        "    for j in range(len(name)):\n",
        "        df.iloc[j,j] = 0\n",
        "    for i in range(n):\n",
        "        if y_true.iloc[i] == name[0]:\n",
        "            if y_pred[i] == name[0]:\n",
        "                df.iloc[0,0] += 1\n",
        "            else :\n",
        "                df.iloc[1,0] += 1\n",
        "        else :\n",
        "            if y_pred[i] == name[0]:\n",
        "                df.iloc[0,1] += 1\n",
        "            else :\n",
        "                df.iloc[1,1] += 1\n",
        "                \n",
        "    return df"
      ],
      "execution_count": 0,
      "outputs": []
    },
    {
      "cell_type": "code",
      "metadata": {
        "id": "ewUwb7VQeNlN",
        "colab_type": "code",
        "outputId": "4f320c5e-d45c-4604-8c0a-e49f283b8769",
        "colab": {
          "base_uri": "https://localhost:8080/",
          "height": 136
        }
      },
      "source": [
        "conf = conf_mat(data['1.1'], result)\n",
        "print(conf, '\\n')\n",
        "print((conf.iloc[0,0]+conf.iloc[1,1])/len(y), '\\n')\n",
        "print(np.mean(pred))"
      ],
      "execution_count": 0,
      "outputs": [
        {
          "output_type": "stream",
          "text": [
            "       1      2\n",
            "1  621.0  159.0\n",
            "2   78.0  141.0 \n",
            "\n",
            "0.7627627627627628 \n",
            "\n",
            "0.3002648926673911\n"
          ],
          "name": "stdout"
        }
      ]
    },
    {
      "cell_type": "code",
      "metadata": {
        "id": "5ZSxq1Au1Z3J",
        "colab_type": "code",
        "outputId": "84c3a519-6450-48e0-ffee-7c6cfd5bd612",
        "colab": {
          "base_uri": "https://localhost:8080/",
          "height": 255
        }
      },
      "source": [
        "df = pd.DataFrame(data)\n",
        "print(data)\n",
        "df = df.drop(['43', '4.1', '152', '173', '192'], axis=1)"
      ],
      "execution_count": 0,
      "outputs": [
        {
          "output_type": "stream",
          "text": [
            "     11   6  34  43  1169  65  75  4  ...  143  152  2  173  1  192  201  1.1\n",
            "0    12  48  32  43  5951  61  73  2  ...  143  152  1  173  1  191  201    2\n",
            "1    14  12  34  46  2096  61  74  2  ...  143  152  1  172  2  191  201    1\n",
            "2    11  42  32  42  7882  61  74  2  ...  143  153  1  173  2  191  201    1\n",
            "3    11  24  33  40  4870  61  73  3  ...  143  153  2  173  2  191  201    2\n",
            "4    14  36  32  46  9055  65  73  2  ...  143  153  1  172  2  192  201    1\n",
            "..   ..  ..  ..  ..   ...  ..  .. ..  ...  ...  ... ..  ... ..  ...  ...  ...\n",
            "994  14  12  32  42  1736  61  74  3  ...  143  152  1  172  1  191  201    1\n",
            "995  11  30  32  41  3857  61  73  4  ...  143  152  1  174  1  192  201    1\n",
            "996  14  12  32  43   804  61  75  4  ...  143  152  1  173  1  191  201    1\n",
            "997  11  45  32  43  1845  61  73  4  ...  143  153  1  173  1  192  201    2\n",
            "998  12  45  34  41  4576  62  71  3  ...  143  152  1  173  1  191  201    1\n",
            "\n",
            "[999 rows x 21 columns]\n"
          ],
          "name": "stdout"
        }
      ]
    },
    {
      "cell_type": "code",
      "metadata": {
        "id": "PukaH9QFexfA",
        "colab_type": "code",
        "colab": {}
      },
      "source": [
        "train = df.iloc[0:979,:].copy()\n",
        "test = df.iloc[979:999,:].copy()\n",
        "\n",
        "X = train.iloc[:,0:15].copy()\n",
        "y = train.iloc[:,-1].copy()\n",
        "\n",
        "X_test = test.iloc[:,0:15].copy()\n",
        "y_test = test.iloc[:,-1].copy()\n",
        "\n",
        "n = len(y)\n",
        "for i in range(n):\n",
        "    if y[i] == 2:\n",
        "        y[i] = 1\n",
        "    elif y[i] == 1:\n",
        "        y[i] = 0\n",
        "\n",
        "y = y.astype(float)\n",
        "X = X.astype(float)\n",
        "X_test = X_test.astype(float)\n"
      ],
      "execution_count": 0,
      "outputs": []
    },
    {
      "cell_type": "code",
      "metadata": {
        "id": "c2bVc8WvfxOM",
        "colab_type": "code",
        "outputId": "4eb414ae-902a-4326-9d2d-9e0459201adb",
        "colab": {
          "base_uri": "https://localhost:8080/",
          "height": 578
        }
      },
      "source": [
        "regr = sm.Logit(y, X, family=sm.families.Binomial()).fit()\n",
        "print(regr.summary2())"
      ],
      "execution_count": 0,
      "outputs": [
        {
          "output_type": "stream",
          "text": [
            "Optimization terminated successfully.\n",
            "         Current function value: 0.483625\n",
            "         Iterations 6\n",
            "                         Results: Logit\n",
            "=================================================================\n",
            "Model:              Logit            Pseudo R-squared: 0.211     \n",
            "Dependent Variable: 1.1              AIC:              976.9369  \n",
            "Date:               2020-04-13 19:44 BIC:              1050.2349 \n",
            "No. Observations:   979              Log-Likelihood:   -473.47   \n",
            "Df Model:           14               LL-Null:          -599.97   \n",
            "Df Residuals:       964              LLR p-value:      6.8610e-46\n",
            "Converged:          1.0000           Scale:            1.0000    \n",
            "No. Iterations:     6.0000                                       \n",
            "-------------------------------------------------------------------\n",
            "           Coef.    Std.Err.      z      P>|z|     [0.025    0.975]\n",
            "-------------------------------------------------------------------\n",
            "11        -0.5925     0.0700   -8.4595   0.0000   -0.7298   -0.4553\n",
            "6          0.0261     0.0087    2.9973   0.0027    0.0090    0.0431\n",
            "34        -0.4039     0.0869   -4.6506   0.0000   -0.5742   -0.2337\n",
            "1169       0.0001     0.0000    1.6891   0.0912   -0.0000    0.0001\n",
            "65        -0.2256     0.0577   -3.9067   0.0001   -0.3388   -0.1124\n",
            "75        -0.1546     0.0702   -2.2003   0.0278   -0.2923   -0.0169\n",
            "4          0.2971     0.0819    3.6251   0.0003    0.1364    0.4577\n",
            "93        -0.3017     0.1154   -2.6136   0.0090   -0.5280   -0.0755\n",
            "101       -0.2980     0.1717   -1.7358   0.0826   -0.6344    0.0385\n",
            "121        0.1829     0.0824    2.2199   0.0264    0.0214    0.3444\n",
            "67        -0.0155     0.0078   -1.9868   0.0469   -0.0308   -0.0002\n",
            "143       -0.2140     0.1088   -1.9675   0.0491   -0.4272   -0.0008\n",
            "2          0.2727     0.1591    1.7137   0.0866   -0.0392    0.5846\n",
            "1          0.1166     0.2312    0.5046   0.6139   -0.3364    0.5697\n",
            "201        0.5446     0.1474    3.6937   0.0002    0.2556    0.8336\n",
            "=================================================================\n",
            "\n"
          ],
          "name": "stdout"
        }
      ]
    },
    {
      "cell_type": "code",
      "metadata": {
        "id": "5sy5nn9Gzw1Q",
        "colab_type": "code",
        "outputId": "c5fa320f-1d26-4f96-afc1-4d1fe0318ccd",
        "colab": {
          "base_uri": "https://localhost:8080/",
          "height": 102
        }
      },
      "source": [
        "pred = regr.predict(X_test)\n",
        "result = [2 if r > .5 else 1 for r in pred]\n",
        "conf = conf_mat(y_test, result)\n",
        "print(conf, '\\n')\n",
        "print((conf.iloc[0,0]+conf.iloc[1,1])/np.sum(conf.values))"
      ],
      "execution_count": 0,
      "outputs": [
        {
          "output_type": "stream",
          "text": [
            "      1    2\n",
            "1  12.0  1.0\n",
            "2   4.0  3.0 \n",
            "\n",
            "0.75\n"
          ],
          "name": "stdout"
        }
      ]
    },
    {
      "cell_type": "markdown",
      "metadata": {
        "id": "_npNXJS_7oB4",
        "colab_type": "text"
      },
      "source": [
        "Removing some of the less effective predictors imrpove the models accuricy by 5%"
      ]
    },
    {
      "cell_type": "code",
      "metadata": {
        "id": "bW6KQA-D7x41",
        "colab_type": "code",
        "colab": {}
      },
      "source": [
        "df1 = data.drop(['43', '75', '101', '4.1', '67', '152', '2', '173', '192'], axis=1)\n",
        "\n",
        "train = df1.iloc[0:979,:].copy()\n",
        "test = df1.iloc[979:999,:].copy()\n",
        "\n",
        "X = train.iloc[:,0:11].copy()\n",
        "y = train.iloc[:,-1].copy()\n",
        "\n",
        "X_test = test.iloc[:,0:11].copy()\n",
        "y_test = test.iloc[:,-1].copy()\n",
        "\n",
        "n = len(y)\n",
        "for i in range(n):\n",
        "    if y[i] == 2:\n",
        "        y[i] = 1\n",
        "    elif y[i] == 1:\n",
        "        y[i] = 0\n",
        "\n",
        "y = y.astype(float)\n",
        "X = X.astype(float)\n",
        "X_test = X_test.astype(float)"
      ],
      "execution_count": 0,
      "outputs": []
    },
    {
      "cell_type": "code",
      "metadata": {
        "id": "DJ3ys9618RsU",
        "colab_type": "code",
        "outputId": "d97ead43-3e72-49c4-87c9-f730acb1009f",
        "colab": {
          "base_uri": "https://localhost:8080/",
          "height": 68
        }
      },
      "source": [
        "regr = sm.Logit(y, X, family=sm.families.Binomial()).fit()"
      ],
      "execution_count": 0,
      "outputs": [
        {
          "output_type": "stream",
          "text": [
            "Optimization terminated successfully.\n",
            "         Current function value: 0.492238\n",
            "         Iterations 6\n"
          ],
          "name": "stdout"
        }
      ]
    },
    {
      "cell_type": "code",
      "metadata": {
        "id": "-C7zpCAD86Bt",
        "colab_type": "code",
        "outputId": "0b41d98d-c92a-4f4b-b28e-5dc68ac11470",
        "colab": {
          "base_uri": "https://localhost:8080/",
          "height": 102
        }
      },
      "source": [
        "pred = regr.predict(X_test)\n",
        "result = [2 if r > .5 else 1 for r in pred]\n",
        "conf = conf_mat(y_test, result)\n",
        "print(conf, '\\n')\n",
        "print((conf.iloc[0,0]+conf.iloc[1,1])/np.sum(conf.values))"
      ],
      "execution_count": 0,
      "outputs": [
        {
          "output_type": "stream",
          "text": [
            "      1    2\n",
            "1  12.0  2.0\n",
            "2   4.0  2.0 \n",
            "\n",
            "0.7\n"
          ],
          "name": "stdout"
        }
      ]
    },
    {
      "cell_type": "markdown",
      "metadata": {
        "id": "Y20kuQVsgKK2",
        "colab_type": "text"
      },
      "source": [
        "#Conclusion \n",
        "\n",
        "After splitting the data into training and testing sets based on the assigment requirements, I began to look at the results of our models to remove the weaker predictors. These are ususally the data sets that are less correlated to the value we are predicitng and therefore have less significance in determining the value, so we remove some from the data set as well as some other changes to help imrpove our model. "
      ]
    }
  ]
}