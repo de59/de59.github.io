{
  "nbformat": 4,
  "nbformat_minor": 0,
  "metadata": {
    "colab": {
      "name": "Benford's Law.ipynb",
      "provenance": []
    },
    "kernelspec": {
      "name": "python3",
      "display_name": "Python 3"
    }
  },
  "cells": [
    {
      "cell_type": "markdown",
      "metadata": {
        "id": "kMzk03pY-8wc",
        "colab_type": "text"
      },
      "source": [
        "# Applying Benford's Law to Daily Stock Returns\n",
        "\n",
        "This is a simple project where I used python to create analyze whether daily stock retruns for a given stock would follow Benford's Law. Take a look."
      ]
    },
    {
      "cell_type": "code",
      "metadata": {
        "id": "Wor0KGOKCaY1",
        "colab_type": "code",
        "colab": {}
      },
      "source": [
        "import re\n",
        "import datetime\n",
        "import matplotlib.pyplot as plt\n",
        "import matplotlib.dates as mdates\n",
        "import pandas as pd\n",
        "pd.core.common.is_list_like = pd.api.types.is_list_like\n",
        "import pandas_datareader.data as web\n",
        "import numpy as np"
      ],
      "execution_count": 7,
      "outputs": []
    },
    {
      "cell_type": "code",
      "metadata": {
        "id": "0IGTurnw-4-Z",
        "colab_type": "code",
        "colab": {
          "base_uri": "https://localhost:8080/",
          "height": 295
        },
        "outputId": "74f39a64-26af-4810-b148-03946977d25b"
      },
      "source": [
        "def get_single_stock_data(start_date, end_date, symbol):\n",
        "    data = web.DataReader(symbol, \"yahoo\", start_date, end_date)\n",
        "    return data\n",
        "\n",
        "start_date = datetime.datetime(2019, 8, 1)\n",
        "end_date = datetime.datetime(2020, 8, 1)\n",
        "\n",
        "def display_as_percentage(val):\n",
        "  return '{:.1f}%'.format(val * 100)\n",
        "\n",
        "data = lambda x : get_single_stock_data(start_date,end_date,x)\n",
        "datad = lambda x,start_date,end_date : get_single_stock_data(start_date,end_date,x)\n",
        "d1_rtrn = lambda x : x['Adj Close'].pct_change(1).dropna()\n",
        "\n",
        "ticker = \"spy\"\n",
        "\n",
        "df = data(ticker)\n",
        "df['Daily Log Rate of Return'] = (np.log(df['Adj Close']/df['Adj Close'].shift(1)))*100\n",
        "df = df['Daily Log Rate of Return']\n",
        "df = pd.DataFrame(df)\n",
        "df = df.dropna()\n",
        "\n",
        "stdev = np.std(df)\n",
        "q1 = df.loc[df['Daily Log Rate of Return']<np.percentile(df, 25)]\n",
        "q3 = df.loc[df['Daily Log Rate of Return']>np.percentile(df, 75)]\n",
        "q = pd.concat([q1, q3])\n",
        "interq = df[~df['Daily Log Rate of Return'].isin(q['Daily Log Rate of Return'])]\n",
        "\n",
        "def benfordslaw(df):\n",
        "    num1 = 0\n",
        "    num2 = 0\n",
        "    num3 = 0\n",
        "    num4 = 0\n",
        "    num5 = 0\n",
        "    num6 = 0\n",
        "    num7 = 0\n",
        "    num8 = 0\n",
        "    num9 = 0\n",
        "    total = 0\n",
        "\n",
        "    for i in range(len(df)):\n",
        "        total += 1\n",
        "        num = pd.DataFrame(df.iloc[i:(i+1)])\n",
        "        x = abs(num['Daily Log Rate of Return'][0])\n",
        "        if x >= 1:\n",
        "            x = str(x)\n",
        "            if re.search(r'\\d', x).group() == '1':\n",
        "                num1 += 1\n",
        "            elif re.search(r'\\d', x).group() == '2':\n",
        "                num2 += 1\n",
        "            elif re.search(r'\\d', x).group() == '3':\n",
        "                num3 += 1\n",
        "            elif re.search(r'\\d', x).group() == '4':\n",
        "                num4 += 1\n",
        "            elif re.search(r'\\d', x).group() == '5':\n",
        "                num5 += 1\n",
        "            elif re.search(r'\\d', x).group() == '6':\n",
        "                num6 += 1\n",
        "            elif re.search(r'\\d', x).group() == '7':\n",
        "                num7 += 1\n",
        "            elif re.search(r'\\d', x).group() == '8':\n",
        "                num8 += 1\n",
        "            else:\n",
        "                num9 += 1\n",
        "        else:\n",
        "            x = str(x)\n",
        "            y = x.strip('0.')\n",
        "            if re.search(r'\\d', y).group() == '1':\n",
        "                num1 += 1\n",
        "            elif re.search(r'\\d', y).group() == '2':\n",
        "                num2 += 1\n",
        "            elif re.search(r'\\d', y).group() == '3':\n",
        "                num3 += 1\n",
        "            elif re.search(r'\\d', y).group() == '4':\n",
        "                num4 += 1\n",
        "            elif re.search(r'\\d', y).group() == '5':\n",
        "                num5 += 1\n",
        "            elif re.search(r'\\d', y).group() == '6':\n",
        "                num6 += 1\n",
        "            elif re.search(r'\\d', y).group() == '7':\n",
        "                num7 += 1\n",
        "            elif re.search(r'\\d', y).group() == '8':\n",
        "                num8 += 1\n",
        "            else:\n",
        "                num9 += 1\n",
        "    return num1, num2, num3, num4, num5, num6, num7, num8, num9\n",
        "\n",
        "\n",
        "print(benfordslaw(df))\n",
        "labels = ['1', '2', '3', '4', '5', '6', '7', '8', '9']\n",
        "sizes = benfordslaw(df)\n",
        "df = pd.DataFrame(sizes, index = labels)\n",
        "\n",
        "df.plot.bar()\n",
        "plt.title('Benford\\'s law in daily stock returns')\n",
        "plt.show()"
      ],
      "execution_count": 8,
      "outputs": [
        {
          "output_type": "stream",
          "text": [
            "(72, 43, 30, 26, 22, 19, 17, 13, 10)\n"
          ],
          "name": "stdout"
        },
        {
          "output_type": "display_data",
          "data": {
            "image/png": "[encoded data removed]",
            "text/plain": [
              "<Figure size 432x288 with 1 Axes>"
            ]
          },
          "metadata": {
            "tags": [],
            "needs_background": "light"
          }
        }
      ]
    }
  ]
}