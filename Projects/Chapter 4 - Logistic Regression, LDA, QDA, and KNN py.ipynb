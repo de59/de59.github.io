{
 "cells": [
  {
   "cell_type": "markdown",
   "metadata": {},
   "source": [
    "## The Stock Market Data\n",
    "\n",
    "\n",
    "We will begin by examining some numerical and graphical summaries of the Smarket data, which is part of the ISLR library. This data set consists of percentage returns for the S&P 500 stock index over 1, 250 days, from the beginning of 2001 until the end of 2005. For each date, we have recorded the percentage returns for each of the five previous trading days, Lag1 through Lag5. We have also recorded Volume (the number of shares traded on the previous day, in billions), Today (the percentage return on the date in question) and Direction (whether the market was Up or Down on this date)."
   ]
  },
  {
   "cell_type": "code",
   "execution_count": 2,
   "metadata": {},
   "outputs": [],
   "source": [
    "import numpy as np\n",
    "import pandas as pd\n",
    "import random\n",
    "import statsmodels.api as sm\n",
    "from sklearn import preprocessing\n",
    "from sklearn.neighbors import KNeighborsClassifier\n",
    "from sklearn.discriminant_analysis import LinearDiscriminantAnalysis, QuadraticDiscriminantAnalysis\n",
    "from sklearn.metrics import confusion_matrix\n",
    "import matplotlib.pyplot as plt"
   ]
  },
  {
   "cell_type": "markdown",
   "metadata": {},
   "source": [
    "## 4.6.1 The Stock Market Data"
   ]
  },
  {
   "cell_type": "code",
   "execution_count": 3,
   "metadata": {},
   "outputs": [],
   "source": [
    "Smarket = pd.read_table(\"Smarket.csv\", sep = ',')\n",
    "Smarket = Smarket = Smarket.iloc[:,1:]"
   ]
  },
  {
   "cell_type": "code",
   "execution_count": 4,
   "metadata": {},
   "outputs": [
    {
     "name": "stdout",
     "output_type": "stream",
     "text": [
      "(1250, 9) \n",
      "\n",
      "              Year         Lag1         Lag2         Lag3         Lag4  \\\n",
      "count  1250.000000  1250.000000  1250.000000  1250.000000  1250.000000   \n",
      "mean   2003.016000     0.003834     0.003919     0.001716     0.001636   \n",
      "std       1.409018     1.136299     1.136280     1.138703     1.138774   \n",
      "min    2001.000000    -4.922000    -4.922000    -4.922000    -4.922000   \n",
      "25%    2002.000000    -0.639500    -0.639500    -0.640000    -0.640000   \n",
      "50%    2003.000000     0.039000     0.039000     0.038500     0.038500   \n",
      "75%    2004.000000     0.596750     0.596750     0.596750     0.596750   \n",
      "max    2005.000000     5.733000     5.733000     5.733000     5.733000   \n",
      "\n",
      "             Lag5       Volume        Today  \n",
      "count  1250.00000  1250.000000  1250.000000  \n",
      "mean      0.00561     1.478305     0.003138  \n",
      "std       1.14755     0.360357     1.136334  \n",
      "min      -4.92200     0.356070    -4.922000  \n",
      "25%      -0.64000     1.257400    -0.639500  \n",
      "50%       0.03850     1.422950     0.038500  \n",
      "75%       0.59700     1.641675     0.596750  \n",
      "max       5.73300     3.152470     5.733000  \n"
     ]
    }
   ],
   "source": [
    "print(Smarket.shape, \"\\n\")\n",
    "print(Smarket.describe())"
   ]
  },
  {
   "cell_type": "markdown",
   "metadata": {},
   "source": [
    "The corr() function produces a matrix that contains all of the pairwise correlations among the predictors in a data set. The first command below gives an error message because the Direction variable is qualitative."
   ]
  },
  {
   "cell_type": "code",
   "execution_count": 5,
   "metadata": {},
   "outputs": [
    {
     "name": "stdout",
     "output_type": "stream",
     "text": [
      "            Year      Lag1      Lag2      Lag3      Lag4      Lag5    Volume  \\\n",
      "Year    1.000000  0.029700  0.030596  0.033195  0.035689  0.029788  0.539006   \n",
      "Lag1    0.029700  1.000000 -0.026294 -0.010803 -0.002986 -0.005675  0.040910   \n",
      "Lag2    0.030596 -0.026294  1.000000 -0.025897 -0.010854 -0.003558 -0.043383   \n",
      "Lag3    0.033195 -0.010803 -0.025897  1.000000 -0.024051 -0.018808 -0.041824   \n",
      "Lag4    0.035689 -0.002986 -0.010854 -0.024051  1.000000 -0.027084 -0.048414   \n",
      "Lag5    0.029788 -0.005675 -0.003558 -0.018808 -0.027084  1.000000 -0.022002   \n",
      "Volume  0.539006  0.040910 -0.043383 -0.041824 -0.048414 -0.022002  1.000000   \n",
      "Today   0.030095 -0.026155 -0.010250 -0.002448 -0.006900 -0.034860  0.014592   \n",
      "\n",
      "           Today  \n",
      "Year    0.030095  \n",
      "Lag1   -0.026155  \n",
      "Lag2   -0.010250  \n",
      "Lag3   -0.002448  \n",
      "Lag4   -0.006900  \n",
      "Lag5   -0.034860  \n",
      "Volume  0.014592  \n",
      "Today   1.000000  \n"
     ]
    }
   ],
   "source": [
    "print(Smarket.corr())"
   ]
  },
  {
   "cell_type": "code",
   "execution_count": 6,
   "metadata": {},
   "outputs": [
    {
     "name": "stdout",
     "output_type": "stream",
     "text": [
      "            Year      Lag1      Lag2      Lag3      Lag4      Lag5    Volume  \\\n",
      "Year    1.000000  0.029700  0.030596  0.033195  0.035689  0.029788  0.539006   \n",
      "Lag1    0.029700  1.000000 -0.026294 -0.010803 -0.002986 -0.005675  0.040910   \n",
      "Lag2    0.030596 -0.026294  1.000000 -0.025897 -0.010854 -0.003558 -0.043383   \n",
      "Lag3    0.033195 -0.010803 -0.025897  1.000000 -0.024051 -0.018808 -0.041824   \n",
      "Lag4    0.035689 -0.002986 -0.010854 -0.024051  1.000000 -0.027084 -0.048414   \n",
      "Lag5    0.029788 -0.005675 -0.003558 -0.018808 -0.027084  1.000000 -0.022002   \n",
      "Volume  0.539006  0.040910 -0.043383 -0.041824 -0.048414 -0.022002  1.000000   \n",
      "Today   0.030095 -0.026155 -0.010250 -0.002448 -0.006900 -0.034860  0.014592   \n",
      "\n",
      "           Today  \n",
      "Year    0.030095  \n",
      "Lag1   -0.026155  \n",
      "Lag2   -0.010250  \n",
      "Lag3   -0.002448  \n",
      "Lag4   -0.006900  \n",
      "Lag5   -0.034860  \n",
      "Volume  0.014592  \n",
      "Today   1.000000  \n"
     ]
    }
   ],
   "source": [
    "variables = Smarket.columns.tolist()\n",
    "print(Smarket.drop(variables[8], axis = 1).corr())"
   ]
  },
  {
   "cell_type": "code",
   "execution_count": null,
   "metadata": {},
   "outputs": [],
   "source": [
    "As one would expect, the correlations between the lag variables and to- day’s returns are close to zero. In other words, there appears to be little correlation between today’s returns and previous days’ returns. The only substantial correlation is between Year and Volume. By plotting the data we see that Volume is increasing over time. In other words, the average number of shares traded daily increased from 2001 to 2005.\n"
   ]
  },
  {
   "cell_type": "code",
   "execution_count": 7,
   "metadata": {},
   "outputs": [
    {
     "data": {
      "image/png": "[encoded data removed]",
      "text/plain": [
       "<Figure size 432x288 with 1 Axes>"
      ]
     },
     "metadata": {
      "needs_background": "light"
     },
     "output_type": "display_data"
    }
   ],
   "source": [
    "n = len(Smarket)\n",
    "x = range(n)\n",
    "plt.scatter(x, Smarket.Volume, s = 1)\n",
    "plt.show()"
   ]
  },
  {
   "cell_type": "markdown",
   "metadata": {},
   "source": [
    "## 4.6.2 Logistic Regression \n",
    "Next, we will fit a logistic regression model in order to predict Direction using Lag1 through Lag5 and Volume. "
   ]
  },
  {
   "cell_type": "code",
   "execution_count": 8,
   "metadata": {},
   "outputs": [],
   "source": [
    "data = Smarket\n",
    "X = data.iloc[:,1:7].copy()\n",
    "y = data.iloc[:,-1].copy()\n",
    "n = len(y)\n",
    "for i in range(n):\n",
    "    if y[i] == 'Up':\n",
    "        y[i] = 1\n",
    "    elif y[i] == 'Down':\n",
    "        y[i] = 0\n"
   ]
  },
  {
   "cell_type": "code",
   "execution_count": 9,
   "metadata": {},
   "outputs": [],
   "source": [
    "y = y.astype(float) ## sometime need to convert to float\n",
    "X = X.astype(float) ## so that statsmodel functions can handle"
   ]
  },
  {
   "cell_type": "code",
   "execution_count": 10,
   "metadata": {},
   "outputs": [
    {
     "name": "stdout",
     "output_type": "stream",
     "text": [
      "Optimization terminated successfully.\n",
      "         Current function value: 0.691143\n",
      "         Iterations 4\n"
     ]
    }
   ],
   "source": [
    "regr = sm.Logit(y, X, family = sm.families.Binomial()).fit()"
   ]
  },
  {
   "cell_type": "code",
   "execution_count": 10,
   "metadata": {},
   "outputs": [
    {
     "name": "stdout",
     "output_type": "stream",
     "text": [
      "                         Results: Logit\n",
      "================================================================\n",
      "Model:              Logit            No. Iterations:   4.0000   \n",
      "Dependent Variable: Direction        Pseudo R-squared: 0.002    \n",
      "Date:               2018-03-28 16:26 AIC:              1739.8583\n",
      "No. Observations:   1250             BIC:              1770.6436\n",
      "Df Model:           5                Log-Likelihood:   -863.93  \n",
      "Df Residuals:       1244             LL-Null:          -865.59  \n",
      "Converged:          1.0000           Scale:            1.0000   \n",
      "------------------------------------------------------------------\n",
      "           Coef.    Std.Err.      z      P>|z|     [0.025   0.975]\n",
      "------------------------------------------------------------------\n",
      "Lag1      -0.0721     0.0501   -1.4378   0.1505   -0.1703   0.0262\n",
      "Lag2      -0.0434     0.0500   -0.8678   0.3855   -0.1415   0.0546\n",
      "Lag3       0.0100     0.0499    0.1998   0.8416   -0.0878   0.1077\n",
      "Lag4       0.0081     0.0499    0.1617   0.8715   -0.0897   0.1059\n",
      "Lag5       0.0097     0.0495    0.1957   0.8449   -0.0873   0.1067\n",
      "Volume     0.0549     0.0373    1.4730   0.1407   -0.0181   0.1280\n",
      "================================================================\n",
      "\n"
     ]
    }
   ],
   "source": [
    "print(regr.summary2())"
   ]
  },
  {
   "cell_type": "markdown",
   "metadata": {},
   "source": [
    "The smallest p-value here is associated with Lag1. The negative coefficient for this predictor suggests that if the market had a positive return yesterday, then it is less likely to go up today. However, at a value of 0.15, the p-value is still relatively large, and so there is no clear evidence of a real association between Lag1 and Direction."
   ]
  },
  {
   "cell_type": "code",
   "execution_count": 19,
   "metadata": {},
   "outputs": [
    {
     "name": "stdout",
     "output_type": "stream",
     "text": [
      "Lag1     -0.072063\n",
      "Lag2     -0.043420\n",
      "Lag3      0.009969\n",
      "Lag4      0.008073\n",
      "Lag5      0.009685\n",
      "Volume    0.054905\n",
      "dtype: float64\n"
     ]
    }
   ],
   "source": [
    "print(regr.params)"
   ]
  },
  {
   "cell_type": "code",
   "execution_count": 20,
   "metadata": {},
   "outputs": [
    {
     "name": "stdout",
     "output_type": "stream",
     "text": [
      "[0.51502968 0.48805685 0.48458173 0.52021946 0.51767349 0.51086624\n",
      " 0.49521645 0.51173353 0.52523007 0.49547214]\n"
     ]
    }
   ],
   "source": [
    "pred = regr.predict()\n",
    "print(pred[0:10])"
   ]
  },
  {
   "cell_type": "markdown",
   "metadata": {},
   "source": [
    "The predict() function can be used to predict the probability that the market will go up, given values of the predictors. The type=\"response\" option tells R to output probabilities of the form P(Y = 1|X), as opposed to other information such as the logit. If no data set is supplied to the predict() function, then the probabilities are computed for the training data that was used to fit the logistic regression model. Here we have printed only the first ten probabilities. We know that these values correspond to the probability of the market going up, rather than down.\n"
   ]
  },
  {
   "cell_type": "code",
   "execution_count": 21,
   "metadata": {},
   "outputs": [],
   "source": [
    "def contrast(variable):\n",
    "    level = list(set(variable))\n",
    "    n = len(level)\n",
    "    df = pd.DataFrame(np.zeros([n,n]), index = level, columns = level)\n",
    "    for i in range(n):\n",
    "        for j in range(n):\n",
    "            df.iloc[i,j] = 1 if i==j else 0\n",
    "    \n",
    "    return df"
   ]
  },
  {
   "cell_type": "code",
   "execution_count": 24,
   "metadata": {},
   "outputs": [
    {
     "name": "stdout",
     "output_type": "stream",
     "text": [
      "      Down   Up\n",
      "Down   1.0  0.0\n",
      "Up     0.0  1.0\n"
     ]
    }
   ],
   "source": [
    "print(contrast(data.Direction))"
   ]
  },
  {
   "cell_type": "code",
   "execution_count": 25,
   "metadata": {},
   "outputs": [
    {
     "name": "stdout",
     "output_type": "stream",
     "text": [
      "[[100 502]\n",
      " [ 93 555]]\n"
     ]
    }
   ],
   "source": [
    "result = ['Up' if r > .5 else 'Down' for r in pred]\n",
    "print(confusion_matrix(y_pred = result, y_true = data.Direction))  # sklearn version"
   ]
  },
  {
   "cell_type": "markdown",
   "metadata": {},
   "source": [
    "The diagonal elements of the confusion matrix indicate correct predictions, while the off-diagonals represent incorrect predictions. Hence our model correctly predicted that the market would go up on 507 days and that it would go down on 145 days, for a total of 507 + 145 = 652 correct predictions. The mean() function can be used to compute the fraction of days for which the prediction was correct. In this case, logistic regression correctly predicted the movement of the market 52.2 % of the time.\n",
    "At first glance, it appears that the logistic regression model is working a little better than random guessing. However, this result is misleading because we trained and tested the model on the same set of 1, 250 observa- tions. In other words, 100 − 52.2 = 47.8 % is the training error rate. As we have seen previously, the training error rate is often overly optimistic, it tends to underestimate the test error rate. In order to better assess the ac- curacy of the logistic regression model in this setting, we can fit the model using part of the data, and then examine how well it predicts the held out data. This will yield a more realistic error rate, in the sense that in practice we will be interested in our model’s performance not on the data that we used to fit the model, but rather on days in the future for which the market’s movements are unknown."
   ]
  },
  {
   "cell_type": "code",
   "execution_count": 26,
   "metadata": {},
   "outputs": [],
   "source": [
    "def conf_mat(y_true, y_pred): # function version\n",
    "    df = contrast(y_true) # columns true, rows pred\n",
    "    name = df.columns.tolist()\n",
    "    n = len(y_pred)\n",
    "    for j in range(len(name)):\n",
    "        df.iloc[j,j] = 0\n",
    "    for i in range(n):\n",
    "        if y_true.iloc[i] == name[0]:\n",
    "            if y_pred[i] == name[0]:\n",
    "                df.iloc[0,0] += 1\n",
    "            else :\n",
    "                df.iloc[1,0] += 1\n",
    "        else :\n",
    "            if y_pred[i] == name[0]:\n",
    "                df.iloc[0,1] += 1\n",
    "            else :\n",
    "                df.iloc[1,1] += 1\n",
    "                \n",
    "    return df"
   ]
  },
  {
   "cell_type": "code",
   "execution_count": 59,
   "metadata": {},
   "outputs": [
    {
     "name": "stdout",
     "output_type": "stream",
     "text": [
      "       Down     Up\n",
      "Down    0.0    0.0\n",
      "Up    493.0  507.0 \n",
      "\n",
      "0.5080160320641283 \n",
      "\n",
      "0.7447787533067044\n"
     ]
    }
   ],
   "source": [
    "conf = conf_mat(data.Direction, result)\n",
    "print(conf, '\\n')\n",
    "print((conf.iloc[0,0]+conf.iloc[1,1])/len(y), '\\n')\n",
    "print(np.mean(pred))"
   ]
  },
  {
   "cell_type": "code",
   "execution_count": 60,
   "metadata": {},
   "outputs": [],
   "source": [
    "train = data[data.Year < 2005] # train-test split\n",
    "test = data[[not a for a in data.Year < 2005]]"
   ]
  },
  {
   "cell_type": "code",
   "execution_count": 61,
   "metadata": {},
   "outputs": [],
   "source": [
    "X = train.iloc[:,1:7].copy()\n",
    "y = train.iloc[:,-1].copy()\n",
    "\n",
    "X_test = test.iloc[:,1:7].copy()\n",
    "y_test = test.iloc[:,-1].copy()\n",
    "\n",
    "n = len(y)\n",
    "for i in range(n):\n",
    "    if y[i] == 'Up':\n",
    "        y[i] = 1\n",
    "    elif y[i] == 'Down':\n",
    "        y[i] = 0\n",
    "\n",
    "y = y.astype(float)\n",
    "X = X.astype(float)\n",
    "X_test = X_test.astype(float)"
   ]
  },
  {
   "cell_type": "markdown",
   "metadata": {},
   "source": [
    "The object train is a vector of 1,250 elements, corresponding to the ob- servations in our data set. The elements of the vector that correspond to observations that occurred before 2005 are set to TRUE, whereas those that correspond to observations in 2005 are set to FALSE. The object train is a Boolean vector, since its elements are TRUE and FALSE. Boolean vectors can be used to obtain a subset of the rows or columns of a matrix. For instance, the command Smarket[train,] would pick out a submatrix of the stock market data set, corresponding only to the dates before 2005, since those are the ones for which the elements of train are TRUE. The ! symbol can be used to reverse all of the elements of a Boolean vector. That is, !train is a vector similar to train, except that the elements that are TRUE in train get swapped to FALSE in !train, and the elements that are FALSE in train get swapped to TRUE in !train. Therefore, Smarket[!train,] yields a submatrix of the stock market data containing only the observations for which train is FALSE—that is, the observations with dates in 2005. The output above indicates that there are 252 such observations.\n",
    "We now fit a logistic regression model using only the subset of the obser- vations that correspond to dates before 2005, using the subset argument. We then obtain predicted probabilities of the stock market going up for each of the days in our test set—that is, for the days in 2005."
   ]
  },
  {
   "cell_type": "code",
   "execution_count": 63,
   "metadata": {},
   "outputs": [
    {
     "name": "stdout",
     "output_type": "stream",
     "text": [
      "Optimization terminated successfully.\n",
      "         Current function value: 0.692101\n",
      "         Iterations 3\n",
      "                         Results: Logit\n",
      "================================================================\n",
      "Model:              Logit            Pseudo R-squared: 0.001    \n",
      "Dependent Variable: Direction        AIC:              1393.4337\n",
      "Date:               2020-02-19 10:35 BIC:              1422.8682\n",
      "No. Observations:   998              Log-Likelihood:   -690.72  \n",
      "Df Model:           5                LL-Null:          -691.63  \n",
      "Df Residuals:       992              LLR p-value:      0.87193  \n",
      "Converged:          1.0000           Scale:            1.0000   \n",
      "No. Iterations:     3.0000                                      \n",
      "------------------------------------------------------------------\n",
      "           Coef.    Std.Err.      z      P>|z|     [0.025   0.975]\n",
      "------------------------------------------------------------------\n",
      "Lag1      -0.0557     0.0517   -1.0775   0.2812   -0.1571   0.0456\n",
      "Lag2      -0.0440     0.0517   -0.8506   0.3950   -0.1453   0.0573\n",
      "Lag3       0.0092     0.0515    0.1783   0.8585   -0.0918   0.1102\n",
      "Lag4       0.0089     0.0515    0.1723   0.8632   -0.0921   0.1099\n",
      "Lag5      -0.0031     0.0511   -0.0602   0.9520   -0.1032   0.0971\n",
      "Volume     0.0186     0.0455    0.4077   0.6835   -0.0706   0.1078\n",
      "================================================================\n",
      "\n"
     ]
    }
   ],
   "source": [
    "regr = sm.Logit(y, X, family=sm.families.Binomial()).fit()\n",
    "print(regr.summary2())"
   ]
  },
  {
   "cell_type": "code",
   "execution_count": 64,
   "metadata": {},
   "outputs": [
    {
     "name": "stdout",
     "output_type": "stream",
     "text": [
      "0.5085663310527532\n"
     ]
    }
   ],
   "source": [
    "pred = regr.predict(X_test)\n",
    "result = ['Up' if r > .5 else 'Down' for r in pred]\n",
    "print(np.mean(pred)) ## out-of-sample"
   ]
  },
  {
   "cell_type": "code",
   "execution_count": 65,
   "metadata": {},
   "outputs": [
    {
     "name": "stdout",
     "output_type": "stream",
     "text": [
      "      Down     Up\n",
      "Down  33.0   26.0\n",
      "Up    78.0  115.0 \n",
      "\n",
      "0.5873015873015873\n"
     ]
    }
   ],
   "source": [
    "conf = conf_mat(y_test, result)\n",
    "print(conf, '\\n')\n",
    "print((conf.iloc[0,0]+conf.iloc[1,1])/np.sum(conf.values)) ## out-of-sample"
   ]
  },
  {
   "cell_type": "markdown",
   "metadata": {},
   "source": [
    "Now the results appear to be a little better: 58.7% of the daily movements have been correctly predicted. It is worth noting that in this case, a much simpler strategy of predicting that the market will increase every day will also be correct 56% of the time! Hence, in terms of overall error rate, the logistic regression method is no better than the na ̈ıve approach. However, the confusion matrix shows that on days when logistic regression predicts an increase in the market, it has a 58% accuracy rate. This suggests a possible trading strategy of buying on days when the model predicts an in- creasing market, and avoiding trades on days when a decrease is predicted. Of course one would need to investigate more carefully whether this small improvement was real or just due to random chance."
   ]
  },
  {
   "cell_type": "code",
   "execution_count": 66,
   "metadata": {},
   "outputs": [
    {
     "name": "stdout",
     "output_type": "stream",
     "text": [
      "Optimization terminated successfully.\n",
      "         Current function value: 0.692215\n",
      "         Iterations 3\n",
      "                         Results: Logit\n",
      "================================================================\n",
      "Model:              Logit            Pseudo R-squared: 0.001    \n",
      "Dependent Variable: Direction        AIC:              1385.6605\n",
      "Date:               2020-02-19 10:37 BIC:              1395.4720\n",
      "No. Observations:   998              Log-Likelihood:   -690.83  \n",
      "Df Model:           1                LL-Null:          -691.63  \n",
      "Df Residuals:       996              LLR p-value:      0.20523  \n",
      "Converged:          1.0000           Scale:            1.0000   \n",
      "No. Iterations:     3.0000                                      \n",
      "------------------------------------------------------------------\n",
      "           Coef.    Std.Err.      z      P>|z|     [0.025   0.975]\n",
      "------------------------------------------------------------------\n",
      "Lag1      -0.0556     0.0517   -1.0751   0.2823   -0.1569   0.0457\n",
      "Lag2      -0.0445     0.0517   -0.8606   0.3895   -0.1457   0.0568\n",
      "================================================================\n",
      "\n"
     ]
    }
   ],
   "source": [
    "X = train.iloc[:,1:3].copy()\n",
    "y = train.iloc[:,-1].copy()\n",
    "\n",
    "X_test = test.iloc[:,1:3].copy()\n",
    "y_test = test.iloc[:,-1].copy()\n",
    "\n",
    "n = len(y)\n",
    "for i in range(n):\n",
    "    if y[i] == 'Up':\n",
    "        y[i] = 1\n",
    "    elif y[i] == 'Down':\n",
    "        y[i] = 0\n",
    "\n",
    "y = y.astype(float)\n",
    "X = X.astype(float)\n",
    "X_test = X_test.astype(float)\n",
    "\n",
    "regr = sm.Logit(y, X, family=sm.families.Binomial()).fit()\n",
    "print(regr.summary2())"
   ]
  },
  {
   "cell_type": "code",
   "execution_count": 67,
   "metadata": {},
   "outputs": [
    {
     "name": "stdout",
     "output_type": "stream",
     "text": [
      "0.49960585327087725\n"
     ]
    }
   ],
   "source": [
    "pred = regr.predict(X_test)\n",
    "result = ['Up' if r > .5 else 'Down' for r in pred]\n",
    "print(np.mean(pred)) ## out-of-sample"
   ]
  },
  {
   "cell_type": "code",
   "execution_count": 68,
   "metadata": {},
   "outputs": [
    {
     "name": "stdout",
     "output_type": "stream",
     "text": [
      "      Down    Up\n",
      "Down  64.0  67.0\n",
      "Up    47.0  74.0 \n",
      "\n",
      "0.5476190476190477\n"
     ]
    }
   ],
   "source": [
    "conf = conf_mat(y_test, result)\n",
    "print(conf, '\\n')\n",
    "print((conf.iloc[0,0]+conf.iloc[1,1])/np.sum(conf.values)) ## out-of-sample"
   ]
  },
  {
   "cell_type": "code",
   "execution_count": 69,
   "metadata": {},
   "outputs": [
    {
     "data": {
      "text/plain": [
       "array([0.4667031 , 0.49360611])"
      ]
     },
     "execution_count": 69,
     "metadata": {},
     "output_type": "execute_result"
    }
   ],
   "source": [
    "X_new = np.array([[1.2,1.5],[1.1,-0.8]])\n",
    "regr.predict(X_new)"
   ]
  },
  {
   "cell_type": "markdown",
   "metadata": {},
   "source": [
    "## 4.6.3 Linear Discriminant Analysis"
   ]
  },
  {
   "cell_type": "markdown",
   "metadata": {},
   "source": [
    "Now we will perform LDA on the Smarket data. In R, we fit an LDA model using the LinearDiscriminantAnalysis() function, which is part of the MASS library. Notice that the syntax for the LinearDiscriminantAnalysis() function is identical to that of logistic regression."
   ]
  },
  {
   "cell_type": "code",
   "execution_count": 70,
   "metadata": {},
   "outputs": [
    {
     "name": "stdout",
     "output_type": "stream",
     "text": [
      "[0.49198397 0.50801603] \n",
      "\n",
      "[[ 0.04279022  0.03389409]\n",
      " [-0.03954635 -0.03132544]] \n",
      "\n",
      "[[-0.05544078 -0.0443452 ]] \n",
      "\n",
      "[0.03221375]\n"
     ]
    }
   ],
   "source": [
    "clf = LinearDiscriminantAnalysis()\n",
    "clf.fit(X, y)\n",
    "print(clf.priors_, '\\n') # hint: tap 'tab' after dot '.' to see availible attributes of an obj\n",
    "print(clf.means_, '\\n')\n",
    "print(clf.coef_, '\\n')\n",
    "print(clf.intercept_)"
   ]
  },
  {
   "cell_type": "markdown",
   "metadata": {},
   "source": [
    "The LDA output indicates that $\\hat{π}_1$ = 0.492 and $\\hat{π}_2 = 0.508$; in other words, 49.2% of the training observations correspond to days during which the market went down. It also provides the group means; these are the average of each predictor within each class, and are used by LDA as estimates of μk. These suggest that there is a tendency for the previous 2 days’ returns to be negative on days when the market increases, and a tendency for the previous days’ returns to be positive on days when the market declines. The coefficients of linear discriminants output provides the linear combination of Lag1 and Lag2 that are used to form the LDA decision rule. In other words, these are the multipliers of the elements of X = x in (4.19). If −0.642 × Lag1 − 0.514 × Lag2 is large, then the LDA classifier will predict a market increase, and if it is small, then the LDA classifier will predict a market decline. The plot() function produces plots of the linear discriminants, obtained by computing −0.642 × Lag1 − 0.514 × Lag2 for each of the training observations.\n",
    "\n",
    "The predict() function returns a list with three elements. The first ele- ment, class, contains LDA’s predictions about the movement of the market. The second element, posterior, is a matrix whose kth column contains the posterior probability that the corresponding observation belongs to the kth class, computed from (4.10). Finally, x contains the linear discriminants, described earlier.\n"
   ]
  },
  {
   "cell_type": "code",
   "execution_count": 38,
   "metadata": {},
   "outputs": [
    {
     "data": {
      "image/png": "[encoded data removed]",
      "text/plain": [
       "<Figure size 432x288 with 1 Axes>"
      ]
     },
     "metadata": {
      "needs_background": "light"
     },
     "output_type": "display_data"
    }
   ],
   "source": [
    "n = len(X)\n",
    "x1 = np.arange(min(X.Lag1), max(X.Lag1))\n",
    "x2 = np.arange(min(X.Lag2), max(X.Lag2))\n",
    "yy = clf.intercept_ + x1 * clf.coef_[0,0] + x2 * clf.coef_[0,1]\n",
    "color = ['red' if a == 1 else 'green' for a in y]\n",
    "\n",
    "plt.scatter(X['Lag1'], X['Lag2'], s = 1, color = color)\n",
    "plt.plot(x1, yy, linewidth = 1, color = 'black')\n",
    "plt.show()"
   ]
  },
  {
   "cell_type": "code",
   "execution_count": 39,
   "metadata": {},
   "outputs": [
    {
     "name": "stdout",
     "output_type": "stream",
     "text": [
      "[0. 1.] \n",
      "\n"
     ]
    }
   ],
   "source": [
    "pred = clf.predict(X_test)\n",
    "print(clf.classes_, '\\n')"
   ]
  },
  {
   "cell_type": "code",
   "execution_count": 40,
   "metadata": {},
   "outputs": [
    {
     "name": "stdout",
     "output_type": "stream",
     "text": [
      "      Down     Up\n",
      "Down  35.0   35.0\n",
      "Up    76.0  106.0 \n",
      "\n",
      "0.5595238095238095\n"
     ]
    }
   ],
   "source": [
    "result = ['Up' if r > .5 else 'Down' for r in pred]\n",
    "conf = conf_mat(y_test, result)\n",
    "print(conf, '\\n')\n",
    "print((conf.iloc[0,0]+conf.iloc[1,1])/len(y_test))"
   ]
  },
  {
   "cell_type": "code",
   "execution_count": 41,
   "metadata": {},
   "outputs": [
    {
     "name": "stdout",
     "output_type": "stream",
     "text": [
      "70\n",
      "182\n"
     ]
    }
   ],
   "source": [
    "post = clf.predict_proba(X_test)\n",
    "#print(post, '\\n') # posteriors\n",
    "print(sum(post[:,0] >= .5))\n",
    "print(sum(post[:,0] < .5))"
   ]
  },
  {
   "cell_type": "code",
   "execution_count": 42,
   "metadata": {},
   "outputs": [
    {
     "name": "stdout",
     "output_type": "stream",
     "text": [
      "[0.49017925 0.4792185  0.46681848 0.47400107 0.49278766 0.49385615\n",
      " 0.49510156 0.4872861  0.49070135 0.48440262 0.49069628 0.51199885\n",
      " 0.48951523 0.47067612 0.47445929 0.47995834 0.49357753 0.50308938\n",
      " 0.49788061 0.48863309] \n",
      "\n",
      "[1. 1. 1. 1. 1. 1. 1. 1. 1. 1. 1. 0. 1. 1. 1. 1. 1. 0. 1. 1.] \n",
      "\n",
      "0\n"
     ]
    }
   ],
   "source": [
    "print(post[0:20,0], '\\n')\n",
    "print(pred[0:20], '\\n')\n",
    "print(sum(post[:,0] > .9))"
   ]
  },
  {
   "cell_type": "markdown",
   "metadata": {},
   "source": [
    "## 4.6.4 Quadratic Discriminant Analysis\n",
    "\n",
    "We will now fit a QDA model to the Smarket data. "
   ]
  },
  {
   "cell_type": "code",
   "execution_count": 43,
   "metadata": {},
   "outputs": [
    {
     "name": "stdout",
     "output_type": "stream",
     "text": [
      "[0.49198397 0.50801603] \n",
      "\n",
      "[[ 0.04279022  0.03389409]\n",
      " [-0.03954635 -0.03132544]] \n",
      "\n"
     ]
    }
   ],
   "source": [
    "clf = QuadraticDiscriminantAnalysis()\n",
    "clf.fit(X, y)\n",
    "print(clf.priors_, '\\n') # hint: tap 'tab' after dot '.' to see availible attributes of an obj\n",
    "print(clf.means_, '\\n')"
   ]
  },
  {
   "cell_type": "code",
   "execution_count": 44,
   "metadata": {},
   "outputs": [
    {
     "name": "stdout",
     "output_type": "stream",
     "text": [
      "      Down     Up\n",
      "Down  30.0   20.0\n",
      "Up    81.0  121.0 \n",
      "\n",
      "0.5992063492063492\n"
     ]
    }
   ],
   "source": [
    "pred = clf.predict(X_test)\n",
    "result = ['Up' if r > .5 else 'Down' for r in pred]\n",
    "conf = conf_mat(y_test, result)\n",
    "print(conf, '\\n')\n",
    "print((conf.iloc[0,0]+conf.iloc[1,1])/len(y_test))"
   ]
  },
  {
   "cell_type": "markdown",
   "metadata": {},
   "source": [
    "Interestingly, the QDA predictions are accurate almost 60% of the time, even though the 2005 data was not used to fit the model. This level of accuracy is quite impressive for stock market data, which is known to be quite hard to model accurately. This suggests that the quadratic form assumed by QDA may capture the true relationship more accurately than the linear forms assumed by LDA and logistic regression. However, we recommend evaluating this method’s performance on a larger test set before betting that this approach will consistently beat the market!"
   ]
  },
  {
   "cell_type": "markdown",
   "metadata": {},
   "source": [
    "## K-Nearest Neighbors"
   ]
  },
  {
   "cell_type": "markdown",
   "metadata": {},
   "source": [
    "We will now perform KNN using the KNeighborsClassifier() function. \n",
    "This function works rather differently from the other model fitting functions that we have encountered thus far. "
   ]
  },
  {
   "cell_type": "code",
   "execution_count": 45,
   "metadata": {},
   "outputs": [],
   "source": [
    "random.seed(100)"
   ]
  },
  {
   "cell_type": "code",
   "execution_count": 73,
   "metadata": {},
   "outputs": [
    {
     "name": "stdout",
     "output_type": "stream",
     "text": [
      "      Down    Up\n",
      "Down  43.0  58.0\n",
      "Up    68.0  83.0 \n",
      "\n",
      "0.5\n"
     ]
    }
   ],
   "source": [
    "clf = KNeighborsClassifier(n_neighbors = 1)\n",
    "clf.fit(X, y)\n",
    "pred = clf.predict(X_test)\n",
    "result = ['Up' if r > .5 else 'Down' for r in pred]\n",
    "conf = conf_mat(y_test, result)\n",
    "print(conf, '\\n')\n",
    "print((conf.iloc[0,0]+conf.iloc[1,1])/len(y_test))"
   ]
  },
  {
   "cell_type": "code",
   "execution_count": 74,
   "metadata": {},
   "outputs": [
    {
     "name": "stdout",
     "output_type": "stream",
     "text": [
      "      Down    Up\n",
      "Down  48.0  55.0\n",
      "Up    63.0  86.0 \n",
      "\n",
      "0.5317460317460317\n"
     ]
    }
   ],
   "source": [
    "clf = KNeighborsClassifier(n_neighbors = 3)\n",
    "clf.fit(X, y)\n",
    "pred = clf.predict(X_test)\n",
    "result = ['Up' if r > .5 else 'Down' for r in pred]\n",
    "conf = conf_mat(y_test, result)\n",
    "print(conf, '\\n')\n",
    "print((conf.iloc[0,0]+conf.iloc[1,1])/len(y_test))"
   ]
  },
  {
   "cell_type": "markdown",
   "metadata": {},
   "source": [
    "## 4.6.6 An Application to Caravan Insuarance Data"
   ]
  },
  {
   "cell_type": "code",
   "execution_count": 48,
   "metadata": {},
   "outputs": [
    {
     "name": "stdout",
     "output_type": "stream",
     "text": [
      "(5822, 87) \n",
      "\n",
      "count     5822\n",
      "unique       2\n",
      "top         No\n",
      "freq      5474\n",
      "Name: Purchase, dtype: object \n",
      "\n",
      "348 5474 \n",
      "\n",
      "0.05977327378907592\n"
     ]
    }
   ],
   "source": [
    "Caravan = pd.read_table(\"Caravan.csv\", sep = ',')\n",
    "print(Caravan.shape, '\\n')\n",
    "print(Caravan.Purchase.describe(), '\\n')\n",
    "print(sum(Caravan.Purchase == 'Yes'), sum(Caravan.Purchase == 'No'), '\\n')\n",
    "print(sum(Caravan.Purchase == 'Yes')/len(Caravan))"
   ]
  },
  {
   "cell_type": "code",
   "execution_count": 49,
   "metadata": {},
   "outputs": [
    {
     "name": "stdout",
     "output_type": "stream",
     "text": [
      "1.1106149089659911\n",
      "-1.6140377328112892e-16 \n",
      "\n",
      "0.1646794913476145\n",
      "1.0\n"
     ]
    }
   ],
   "source": [
    "i = 2\n",
    "X = Caravan.drop('Purchase', axis = 1)\n",
    "X = preprocessing.scale(X, axis = 0)\n",
    "print(np.mean(Caravan.iloc[:,i]))\n",
    "print(np.mean(X[:,i]), '\\n')\n",
    "print(np.var(Caravan.iloc[:,i]))\n",
    "print(np.var(X[:,i]))"
   ]
  },
  {
   "cell_type": "code",
   "execution_count": 50,
   "metadata": {},
   "outputs": [],
   "source": [
    "test = list(range(1000))\n",
    "train = list(range(1000, len(Caravan)))\n",
    "X_train = X[train]\n",
    "X_test = X[test]\n",
    "y_train = Caravan.Purchase[train]\n",
    "y_test = Caravan.Purchase[test]"
   ]
  },
  {
   "cell_type": "code",
   "execution_count": 51,
   "metadata": {},
   "outputs": [
    {
     "name": "stdout",
     "output_type": "stream",
     "text": [
      "0.107\n",
      "0.059\n"
     ]
    }
   ],
   "source": [
    "clf = KNeighborsClassifier(n_neighbors = 1)\n",
    "clf.fit(X_train, y_train)\n",
    "pred = clf.predict(X_test)\n",
    "print(np.mean(y_test != pred))\n",
    "print(np.mean(y_test != 'No'))"
   ]
  },
  {
   "cell_type": "code",
   "execution_count": 52,
   "metadata": {},
   "outputs": [
    {
     "name": "stdout",
     "output_type": "stream",
     "text": [
      "        No   Yes\n",
      "No   882.0  48.0\n",
      "Yes   59.0  11.0 \n",
      "\n",
      "0.15714285714285714\n"
     ]
    }
   ],
   "source": [
    "conf = conf_mat(y_test, pred)\n",
    "print(conf, '\\n')\n",
    "print(conf.iloc[1,1]/(conf.iloc[1,0]+conf.iloc[1,1])) # don't know sometime it changes. [Yes,Yes]/([Yes,Yes]+[No,Yes])"
   ]
  },
  {
   "cell_type": "code",
   "execution_count": 53,
   "metadata": {},
   "outputs": [
    {
     "name": "stdout",
     "output_type": "stream",
     "text": [
      "        No   Yes\n",
      "No   921.0  53.0\n",
      "Yes   20.0   6.0 \n",
      "\n",
      "0.23076923076923078\n"
     ]
    }
   ],
   "source": [
    "clf = KNeighborsClassifier(n_neighbors = 3)\n",
    "clf.fit(X_train, y_train)\n",
    "pred = clf.predict(X_test)\n",
    "conf = conf_mat(y_test, pred)\n",
    "print(conf, '\\n')\n",
    "print(conf.iloc[1,1]/(conf.iloc[1,0]+conf.iloc[1,1]))"
   ]
  },
  {
   "cell_type": "code",
   "execution_count": 54,
   "metadata": {},
   "outputs": [
    {
     "name": "stdout",
     "output_type": "stream",
     "text": [
      "        No   Yes\n",
      "No   934.0  55.0\n",
      "Yes    7.0   4.0 \n",
      "\n",
      "0.36363636363636365\n"
     ]
    }
   ],
   "source": [
    "clf = KNeighborsClassifier(n_neighbors = 5)\n",
    "clf.fit(X_train, y_train)\n",
    "pred = clf.predict(X_test)\n",
    "conf = conf_mat(y_test, pred)\n",
    "print(conf, '\\n')\n",
    "print(conf.iloc[1,1]/(conf.iloc[1,0]+conf.iloc[1,1]))"
   ]
  },
  {
   "cell_type": "code",
   "execution_count": 55,
   "metadata": {},
   "outputs": [],
   "source": [
    "y_train_num = [1 if a == 'Yes' else 0 for a in y_train]"
   ]
  },
  {
   "cell_type": "code",
   "execution_count": 56,
   "metadata": {},
   "outputs": [
    {
     "name": "stdout",
     "output_type": "stream",
     "text": [
      "Optimization terminated successfully.\n",
      "         Current function value: 0.634868\n",
      "         Iterations 6\n",
      "        No   Yes\n",
      "No     0.0   0.0\n",
      "Yes  941.0  59.0 \n",
      "\n",
      "0.059\n"
     ]
    }
   ],
   "source": [
    "regr = sm.Logit(y_train_num, X_train, family=sm.families.Binomial()).fit()\n",
    "pred = regr.predict(X_test)\n",
    "result = ['Yes' if r > .5 else 'No' for r in pred]\n",
    "conf = conf_mat(y_test, result)\n",
    "print(conf, '\\n')\n",
    "print(conf.iloc[1,1]/(conf.iloc[1,0]+conf.iloc[1,1]))"
   ]
  },
  {
   "cell_type": "code",
   "execution_count": 57,
   "metadata": {},
   "outputs": [
    {
     "name": "stdout",
     "output_type": "stream",
     "text": [
      "        No   Yes\n",
      "No   931.0  54.0\n",
      "Yes   10.0   5.0 \n",
      "\n",
      "0.3333333333333333\n"
     ]
    }
   ],
   "source": [
    "thr = 0.9\n",
    "result = ['Yes' if r > thr else 'No' for r in pred]\n",
    "conf = conf_mat(y_test, result)\n",
    "print(conf, '\\n')\n",
    "print(conf.iloc[1,1]/(conf.iloc[1,0]+conf.iloc[1,1]))"
   ]
  },
  {
   "cell_type": "code",
   "execution_count": null,
   "metadata": {},
   "outputs": [],
   "source": []
  }
 ],
 "metadata": {
  "anaconda-cloud": {},
  "kernelspec": {
   "display_name": "Python 3",
   "language": "python",
   "name": "python3"
  },
  "language_info": {
   "codemirror_mode": {
    "name": "ipython",
    "version": 3
   },
   "file_extension": ".py",
   "mimetype": "text/x-python",
   "name": "python",
   "nbconvert_exporter": "python",
   "pygments_lexer": "ipython3",
   "version": "3.7.3"
  }
 },
 "nbformat": 4,
 "nbformat_minor": 2
}
