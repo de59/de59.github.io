{
 "cells": [
  {
   "cell_type": "markdown",
   "metadata": {},
   "source": [
    "# Programming structures and Python basics\n",
    "\n",
    "\n",
    "Spring 2018 - Prof. Dantong Yu,   The script was created by Foster Provost\n",
    "\n",
    "Teacher Assistant: Dantong YU\n",
    "\n",
    "\n",
    "***"
   ]
  },
  {
   "cell_type": "markdown",
   "metadata": {},
   "source": [
    "This notebook shows examples of Python code, including built-in functions, packages and programming structures useful for Data Science and Business Analytics. This notebook is a modified version of one created by [Rob Moakler](https://github.com/rmoakler/learning-data-science/blob/master/Spring%202016/Hands-on/Module%201%20-%20Python%20and%20IPython%20Notebooks/IPython%20Notebook%20Tour.ipynb).  This should be review for you all!  At the bottom there are some pointers to a few resources."
   ]
  },
  {
   "cell_type": "markdown",
   "metadata": {},
   "source": [
    "## Python code"
   ]
  },
  {
   "cell_type": "markdown",
   "metadata": {},
   "source": [
    "### 1. Variables, operations and data types\n",
    "Variables are used to store data. \n",
    "The data can be of a variety of types: \n",
    "\n",
    "- Integer numbers\n",
    "- Floating (decimal numbers)\n",
    "- Strings\n",
    "\n",
    "Let's create three variables, one of each type, with 3 different names:"
   ]
  },
  {
   "cell_type": "code",
   "execution_count": 3,
   "metadata": {
    "collapsed": true
   },
   "outputs": [],
   "source": [
    "some_integer = 5\n",
    "some_float = 7.12\n",
    "some_string = \"Student\""
   ]
  },
  {
   "cell_type": "markdown",
   "metadata": {},
   "source": [
    "We can print out these variables. Remember we need to run the previous cell first!"
   ]
  },
  {
   "cell_type": "code",
   "execution_count": 4,
   "metadata": {},
   "outputs": [
    {
     "name": "stdout",
     "output_type": "stream",
     "text": [
      "5\n",
      "7.12\n",
      "Student\n"
     ]
    }
   ],
   "source": [
    "print (some_integer)\n",
    "print (some_float)\n",
    "print (some_string)"
   ]
  },
  {
   "cell_type": "markdown",
   "metadata": {},
   "source": [
    "What if I want to print some text and then some numbers? One easy way to do this is to realize that printing will always **want** string data. \n",
    "\n",
    "If you have data that is not a string (like an integer or float), you can **convert** it to a string: "
   ]
  },
  {
   "cell_type": "code",
   "execution_count": 5,
   "metadata": {},
   "outputs": [
    {
     "name": "stdout",
     "output_type": "stream",
     "text": [
      "My integer is 5.\n",
      "My float converted into integer is 7.\n"
     ]
    }
   ],
   "source": [
    "print (\"My integer is \" + str(some_integer) + \".\")\n",
    "print (\"My float converted into integer is \" + str( int(some_float) ) + \".\")"
   ]
  },
  {
   "cell_type": "markdown",
   "metadata": {},
   "source": [
    "What else can we do with our variables? We can do basic math: **operations**."
   ]
  },
  {
   "cell_type": "code",
   "execution_count": 6,
   "metadata": {},
   "outputs": [
    {
     "name": "stdout",
     "output_type": "stream",
     "text": [
      "sum 12.120000000000001\n",
      "multiplication 35.6\n",
      "quotient 0.7022471910112359\n",
      "power 100000\n"
     ]
    }
   ],
   "source": [
    "print (\"sum \" + str( some_integer + some_float ))\n",
    "print (\"multiplication \" + str ( some_integer * some_float ))\n",
    "print (\"quotient \" + str( some_integer / some_float ))\n",
    "print (\"power \" + str( 10**some_integer ))"
   ]
  },
  {
   "cell_type": "markdown",
   "metadata": {},
   "source": [
    "We can store this as a new variable and print it:"
   ]
  },
  {
   "cell_type": "code",
   "execution_count": 7,
   "metadata": {},
   "outputs": [
    {
     "name": "stdout",
     "output_type": "stream",
     "text": [
      "Sum variable: 12.120000000000001\n"
     ]
    }
   ],
   "source": [
    "my_sum = some_integer + some_float\n",
    "print (\"Sum variable: \" + str( my_sum ))"
   ]
  },
  {
   "cell_type": "markdown",
   "metadata": {},
   "source": [
    "There are also other **data structures**:\n",
    "\n",
    "- Lists (sometimes refered to as \"arrays\", but look up the difference)\n",
    "- Dictionaries\n",
    "- Sets\n"
   ]
  },
  {
   "cell_type": "code",
   "execution_count": 8,
   "metadata": {},
   "outputs": [
    {
     "name": "stdout",
     "output_type": "stream",
     "text": [
      "This is a list:  [0, 0, 1, 2, 3, 3, 4.5, 7.6]\n",
      "This is a dictionary:  {'student1': '(929)-000-0000', 'student2': '(917)-000-0000', 'student3': '(470)-000-0000'}\n",
      "This is a set:  {1, 2, 4, 5}\n"
     ]
    }
   ],
   "source": [
    "some_list = [0,0,1,2,3,3,4.5,7.6]\n",
    "some_dictionary = {'student1': '(929)-000-0000', 'student2': '(917)-000-0000', 'student3': '(470)-000-0000'}\n",
    "some_set = set( [1,2,4,4,5,5] )\n",
    "\n",
    "print (\"This is a list:  \" + str(some_list))\n",
    "print (\"This is a dictionary:  \" + str( some_dictionary ))\n",
    "print (\"This is a set:  \" + str( some_set ))"
   ]
  },
  {
   "cell_type": "markdown",
   "metadata": {},
   "source": [
    "How can we use  **individual** elements? \n",
    "\n",
    "In Python (and generally by computer science convention), we count elements of a _list_ starting from zero! To get the first item we should look in the 0th space:\n"
   ]
  },
  {
   "cell_type": "code",
   "execution_count": 10,
   "metadata": {},
   "outputs": [
    {
     "name": "stdout",
     "output_type": "stream",
     "text": [
      "1\n"
     ]
    }
   ],
   "source": [
    "print (some_list[2])"
   ]
  },
  {
   "cell_type": "markdown",
   "metadata": {},
   "source": [
    "Adding things to the end of the list is \"appending\" them:"
   ]
  },
  {
   "cell_type": "code",
   "execution_count": 12,
   "metadata": {},
   "outputs": [
    {
     "name": "stdout",
     "output_type": "stream",
     "text": [
      "[0, 0, 1, 2, 3, 3, 4.5, 7.6, 500, 500]\n"
     ]
    }
   ],
   "source": [
    "some_list.append(500)\n",
    "print (some_list)"
   ]
  },
  {
   "cell_type": "markdown",
   "metadata": {},
   "source": [
    "How can we retrieve an element (**VALUE**) of a _dictionary_ ?  Use its **\"KEY\"** !! "
   ]
  },
  {
   "cell_type": "code",
   "execution_count": 14,
   "metadata": {},
   "outputs": [
    {
     "name": "stdout",
     "output_type": "stream",
     "text": [
      "(929)-000-0000\n"
     ]
    }
   ],
   "source": [
    "print (some_dictionary['student1'])"
   ]
  },
  {
   "cell_type": "markdown",
   "metadata": {},
   "source": [
    "### 2. Create functions"
   ]
  },
  {
   "cell_type": "markdown",
   "metadata": {},
   "source": [
    "Functions allow us to execute predefined operations and to define our own operations that will be available later.  They encapsulate procedures. If we know we are likely to execute some operation many times, we may want to save time, to avoid repeated code, and often to clarify what we are doing.  To do this, we would define a function.  \n",
    "\n",
    "(*If you haven't thought this through before, consider the drawback of repeated code: what if later you realize that you need to fix something in that code block.  You'd have to go through and fix it everywhere.*) \n",
    "\n",
    "For example, consider having to calculate the area of a circle."
   ]
  },
  {
   "cell_type": "code",
   "execution_count": 15,
   "metadata": {
    "collapsed": true
   },
   "outputs": [],
   "source": [
    "def area_of_a_circle(radius):\n",
    "    area = 3.1416 * radius * radius\n",
    "    return area"
   ]
  },
  {
   "cell_type": "code",
   "execution_count": 16,
   "metadata": {},
   "outputs": [
    {
     "name": "stdout",
     "output_type": "stream",
     "text": [
      "Area of a circle with radius 5 is: 78.54\n"
     ]
    }
   ],
   "source": [
    "\n",
    "circle_area = area_of_a_circle(5)\n",
    "print (\"Area of a circle with radius 5 is: \" + str( circle_area))\n"
   ]
  },
  {
   "cell_type": "markdown",
   "metadata": {},
   "source": [
    "Can you see what is going on here? My function that I helpfully named `\"area_of_a_circle\"` takes one **argument** that we will call radius. It then uses this radius to get the area and then *returns* it. Now, whenever I want to get the area of some circle, I simply call `area_of_a_circle()` and place the radius in the middle of the parentheses."
   ]
  },
  {
   "cell_type": "markdown",
   "metadata": {},
   "source": [
    "### 3. Loops / iterations"
   ]
  },
  {
   "cell_type": "markdown",
   "metadata": {},
   "source": [
    "For data analysis we do a lot of repetitive things. This doesn't mean we need to do a ton of copy and pasting, though. We can use **loops** to make this easy. As a very simple example, what if we wanted to square each number from 1 to 5?"
   ]
  },
  {
   "cell_type": "code",
   "execution_count": 17,
   "metadata": {},
   "outputs": [
    {
     "name": "stdout",
     "output_type": "stream",
     "text": [
      "1\n",
      "4\n",
      "9\n",
      "16\n",
      "25\n"
     ]
    }
   ],
   "source": [
    "for number in [1, 2, 3, 4, 5]:\n",
    "    print (number * number)"
   ]
  },
  {
   "cell_type": "markdown",
   "metadata": {},
   "source": [
    "Let's use the function we did before. Remember this is a function that can only be used in **this notebook** \n",
    "\n",
    "( unless we write a **\"script\"** file, but we'll see that later... ):"
   ]
  },
  {
   "cell_type": "code",
   "execution_count": 18,
   "metadata": {},
   "outputs": [
    {
     "name": "stdout",
     "output_type": "stream",
     "text": [
      "Area of circle with radius 1 is: 3.1416\n",
      "Area of circle with radius 2 is: 12.5664\n",
      "Area of circle with radius 3 is: 28.2744\n",
      "Area of circle with radius 4 is: 50.2656\n",
      "Area of circle with radius 5 is: 78.54\n"
     ]
    }
   ],
   "source": [
    "for number in [1, 2, 3, 4, 5]:\n",
    "    print (\"Area of circle with radius \" + str(number) + \" is: \" + str( area_of_a_circle(number) ))"
   ]
  },
  {
   "cell_type": "markdown",
   "metadata": {},
   "source": [
    "### 4. Conditionals and comparisons"
   ]
  },
  {
   "cell_type": "markdown",
   "metadata": {},
   "source": [
    "Sometimes we need to check something before deciding what to do next. For example,"
   ]
  },
  {
   "cell_type": "code",
   "execution_count": 19,
   "metadata": {
    "collapsed": true
   },
   "outputs": [],
   "source": [
    "def is_best_prof(name):\n",
    "    if name == \"Foster\":\n",
    "        return True\n",
    "    else:\n",
    "        return False"
   ]
  },
  {
   "cell_type": "code",
   "execution_count": 20,
   "metadata": {},
   "outputs": [
    {
     "name": "stdout",
     "output_type": "stream",
     "text": [
      "True\n"
     ]
    }
   ],
   "source": [
    "print (is_best_prof(\"Foster\"))"
   ]
  },
  {
   "cell_type": "code",
   "execution_count": 21,
   "metadata": {},
   "outputs": [
    {
     "name": "stdout",
     "output_type": "stream",
     "text": [
      "False\n"
     ]
    }
   ],
   "source": [
    "print (is_best_prof(\"John\"))"
   ]
  },
  {
   "cell_type": "code",
   "execution_count": 22,
   "metadata": {},
   "outputs": [
    {
     "name": "stdout",
     "output_type": "stream",
     "text": [
      "You're going to have a great semester!\n"
     ]
    }
   ],
   "source": [
    "my_prof = \"Foster\"\n",
    "if is_best_prof(my_prof):\n",
    "    print(\"You're going to have a great semester!\")\n",
    "else:\n",
    "    print(\"Well, Good Luck!\")"
   ]
  },
  {
   "cell_type": "markdown",
   "metadata": {},
   "source": [
    "You see in that last one how we have a conditional in the cell, and then call a function that has a conditional inside it?  \n",
    "\n",
    "Let's put a whole bunch of these things together:"
   ]
  },
  {
   "cell_type": "code",
   "execution_count": 23,
   "metadata": {},
   "outputs": [
    {
     "name": "stdout",
     "output_type": "stream",
     "text": [
      "Well, make the best of it!\n"
     ]
    }
   ],
   "source": [
    "my_profs = [\"John\", \"Paul\", \"George\", \"Ringo\"]\n",
    "one_best = False\n",
    "for prof in my_profs:\n",
    "    if is_best_prof(prof):\n",
    "        one_best = True\n",
    "if one_best:\n",
    "    print(\"You're going to have a great semester!\")\n",
    "else:\n",
    "    print(\"Well, make the best of it!\")"
   ]
  },
  {
   "cell_type": "markdown",
   "metadata": {},
   "source": [
    "As we can see here, we made **comparison** of names with the \"equal\" operation  (==).  Remember ... it's == not just = !\n",
    "\n",
    "Other comparisons:\n",
    "\n",
    "- strictly less than  < \n",
    "- less than or equal  <=\n",
    "- strictly greater than  >\n",
    "- greater than or equal  >=\n",
    "- not equal  !=\n",
    "- object identity  \"is\"\n",
    "- negated object identity \"is not\"\n",
    "\n",
    "What if we want to compare more than one element? \n",
    "We should include logical operations such as:\n",
    "\n",
    "- \"and\", also known as \"&\" \n",
    "- \"or\", also known as \"|\"\n",
    "\n",
    "Let's see if you can guess my age with this function!!\n"
   ]
  },
  {
   "cell_type": "code",
   "execution_count": 24,
   "metadata": {
    "collapsed": true
   },
   "outputs": [],
   "source": [
    "def is_my_age(age_argument):\n",
    "    if age_argument < 20:\n",
    "        return \"Of course not!\"\n",
    "    elif (age_argument >= 20) & (age_argument <= 40):\n",
    "        return \"Maybe..\"\n",
    "    elif age_argument > 40:\n",
    "        return \"Don't even think about it!\""
   ]
  },
  {
   "cell_type": "code",
   "execution_count": 25,
   "metadata": {},
   "outputs": [
    {
     "name": "stdout",
     "output_type": "stream",
     "text": [
      "Of course not!\n"
     ]
    }
   ],
   "source": [
    "print (is_my_age(10))"
   ]
  },
  {
   "cell_type": "code",
   "execution_count": 26,
   "metadata": {},
   "outputs": [
    {
     "name": "stdout",
     "output_type": "stream",
     "text": [
      "Maybe..\n"
     ]
    }
   ],
   "source": [
    "print (is_my_age(23))"
   ]
  },
  {
   "cell_type": "code",
   "execution_count": 27,
   "metadata": {},
   "outputs": [
    {
     "name": "stdout",
     "output_type": "stream",
     "text": [
      "Don't even think about it!\n"
     ]
    }
   ],
   "source": [
    "print (is_my_age(80))"
   ]
  },
  {
   "cell_type": "markdown",
   "metadata": {},
   "source": [
    "## Help, help, and more help!"
   ]
  },
  {
   "cell_type": "markdown",
   "metadata": {},
   "source": [
    "- [Codecademy's Python Course](https://www.codecademy.com/learn/python). Working though this class will give you a _great_ foundation for Python.\n",
    "- [Diving into Python](http://www.diveintopython.net/toc/index.html) online book. Working you way from chapter 1 through chapter 5 would put you in a very nice place!\n",
    "- [Python for Data Analysis](https://www.amazon.com/Python-Data-Analysis-Wrangling-IPython-ebook/dp/B009NLMB8Q/ref=mt_kindle?_encoding=UTF8&me=) was the book that Prof. Foster suggested to me (Maria) when I was taking this course. You can take a look at the chapters: Preliminaries, Introductory Examples (e.g. \"Counting Time Zones with pandas”), IPython (page 46 to 62) and specially, Pandas--one of the main Python packages for data analysis.  We will work with Pandas in class.\n",
    "\n",
    "\n",
    "If you are ever stuck just remember: it is normal. This is actually how professional programmers work every day. Google is your best friend, and websites such as Stackoverflow.com have an answer to almost any programming question!\n"
   ]
  },
  {
   "cell_type": "code",
   "execution_count": null,
   "metadata": {
    "collapsed": true
   },
   "outputs": [],
   "source": []
  },
  {
   "cell_type": "code",
   "execution_count": null,
   "metadata": {
    "collapsed": true
   },
   "outputs": [],
   "source": []
  }
 ],
 "metadata": {
  "kernelspec": {
   "display_name": "Python 3",
   "language": "python",
   "name": "python3"
  },
  "language_info": {
   "codemirror_mode": {
    "name": "ipython",
    "version": 3
   },
   "file_extension": ".py",
   "mimetype": "text/x-python",
   "name": "python",
   "nbconvert_exporter": "python",
   "pygments_lexer": "ipython3",
   "version": "3.7.4"
  }
 },
 "nbformat": 4,
 "nbformat_minor": 1
}
